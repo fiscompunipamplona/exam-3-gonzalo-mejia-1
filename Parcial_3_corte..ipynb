{
 "cells": [
  {
   "cell_type": "markdown",
   "metadata": {},
   "source": [
    "## Difusión térmica en la corteza terrestre.\n",
    "\n",
    "Un ejemplo clásico de un problema de difusión con una condición límite variable en el tiempo es la difusión de calor en la corteza terrestre, ya que la temperatura de la superficie varía con las estaciones. Suponga que la temperatura media diaria en un punto particular de la superficie varía como:\n",
    "\n",
    "$$T_{0}(t)=A+Bsin\\frac{2\\pi t}{\\tau }$$\n",
    "\n",
    "donde $τ = 365$ días, $A = 10°C$ y $B = 12°C$. A una profundidad de $20 m$ debajo de la superficie, casi todas las variaciones anuales de temperatura se eliminan y la temperatura es, en buena aproximación, una constante de $11°C$ (que es más alta que la temperatura media de la superficie de $10°C$: la temperatura aumenta con la profundidad, debido al calentamiento del núcleo caliente del planeta). La difusividad térmica de la corteza terrestre varía un poco de un lugar a otro, pero para nuestros propósitos la trataremos como constante con un valor $D = 0.1 m^{2} día^{-1}$.\n",
    "\n",
    "Escriba un programa, para calcular el perfil de temperatura de la corteza en función de la profundidad de hasta 20 my el tiempo de hasta 10 años. Comience con una temperatura en todas partes igual a $10°C$, excepto en la superficie y en el punto más profundo, elija valores para el número de puntos de cuadrícula y el paso de tiempo h, luego ejecute su programa durante los primeros nueve años simulados, para permitir que se asiente abajo en cualquier patrón que alcance. Luego, para el décimo y último año, grafique cuatro perfiles de temperatura tomados a intervalos de 3 meses en un solo gráfico para ilustrar cómo cambia la temperatura en función de la profundidad y el tiempo."
   ]
  },
  {
   "cell_type": "code",
   "execution_count": 1,
   "metadata": {},
   "outputs": [],
   "source": [
    "from numpy import empty\n",
    "from pylab import plot, xlabel, ylabel, show,figure"
   ]
  },
  {
   "cell_type": "code",
   "execution_count": 3,
   "metadata": {},
   "outputs": [
    {
     "data": {
      "image/png": "[encoded data removed]",
      "text/plain": [
       "<Figure size 432x288 with 1 Axes>"
      ]
     },
     "metadata": {
      "needs_background": "light"
     },
     "output_type": "display_data"
    }
   ],
   "source": [
    "from pylab import *\n",
    "\n",
    "A = 10\n",
    "B = 12\n",
    "tau = 365\n",
    "D = 0.1\n",
    "def T0(t):\n",
    "    return A + B*sin(2*pi*t/tau)\n",
    "\n",
    "L = 20   # profundidad en metros\n",
    "D = 0.1  # Difusividad térmica\n",
    "N = 100  # Número de divisiones en cuadrícula\n",
    "a = L/N  # Espaciado de la cuadrícula\n",
    "h = 0.01 # Pasos de tiempo\n",
    "\n",
    "\n",
    "T = zeros(N+1,float)\n",
    "T[1:N]=10\n",
    "\n",
    "\n",
    "def iterate(T,t_min,t_max):\n",
    "    \n",
    "    # programa principal\n",
    "    t = t_min\n",
    "    c = h*D/a**2\n",
    "\n",
    "    while t<t_max:\n",
    "    \n",
    "        # Calculando los nuevos valores de T\n",
    "        \n",
    "        T[0] = T0(t)\n",
    "        T[N] = 11\n",
    "        T[1:N] = T[1:N] + c*(T[2:N+1]+T[0:N-1]-2*T[1:N])\n",
    "            \n",
    "       \n",
    "        t += h\n",
    "    return T\n",
    "\n",
    "\n",
    "T9 = iterate(T,0,365*9)\n",
    "\n",
    "T9_i = T9\n",
    "t_min = 365*9\n",
    "for t_max in [365*9 + i*(365//4) for i in range(4)]:\n",
    "    T9_i = iterate(T9_i,t_min,t_max)\n",
    "    plot(T9_i,label=t_max%365/(365//4))\n",
    "    t_min = t_max\n",
    "\n",
    "\n",
    "legend()\n",
    "xlabel(\"x\") # x es la profundida\n",
    "ylabel(\"T\") # T es la temperatura\n",
    "show()"
   ]
  },
  {
   "cell_type": "markdown",
   "metadata": {},
   "source": [
    "En la grafica podemos óbservar el comportamiento que tiene la temperatura de la corteza terrestre \n",
    "a medida que aumenta la profundidad, esta relación se da en la evolución del tiempo. \n",
    "\n",
    "Esta representación está dada para un año en intervalor de 3 meses, cada una de la lineas representa dicho \n",
    "comportamiento, siendo la azul la del primer trimestre, la amarilla para el sugundo trimestre, la verde\n",
    "para el tercer trimestre y la roja representa el último trimestre.\n",
    "\n",
    "Por tanto podemos que las energias varian en los primeros metros de profundidad para luego finalmente tender a un valor constante, lo que indica que la funcion genera variaciones en el valor de la temperatura."
   ]
  },
  {
   "cell_type": "code",
   "execution_count": null,
   "metadata": {},
   "outputs": [],
   "source": []
  }
 ],
 "metadata": {
  "kernelspec": {
   "display_name": "Python 3",
   "language": "python",
   "name": "python3"
  },
  "language_info": {
   "codemirror_mode": {
    "name": "ipython",
    "version": 3
   },
   "file_extension": ".py",
   "mimetype": "text/x-python",
   "name": "python",
   "nbconvert_exporter": "python",
   "pygments_lexer": "ipython3",
   "version": "3.5.2"
  }
 },
 "nbformat": 4,
 "nbformat_minor": 2
}
